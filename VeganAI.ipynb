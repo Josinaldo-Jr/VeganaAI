{
  "nbformat": 4,
  "nbformat_minor": 0,
  "metadata": {
    "colab": {
      "provenance": [],
      "authorship_tag": "ABX9TyPpOqJ8huGFcLgHw/CAR2Bs",
      "include_colab_link": true
    },
    "kernelspec": {
      "name": "python3",
      "display_name": "Python 3"
    },
    "language_info": {
      "name": "python"
    }
  },
  "cells": [
    {
      "cell_type": "markdown",
      "metadata": {
        "id": "view-in-github",
        "colab_type": "text"
      },
      "source": [
        "<a href=\"https://colab.research.google.com/github/Josinaldo-Jr/VeganaAI/blob/main/VeganAI.ipynb\" target=\"_parent\"><img src=\"https://colab.research.google.com/assets/colab-badge.svg\" alt=\"Open In Colab\"/></a>"
      ]
    },
    {
      "cell_type": "markdown",
      "source": [
        "# 🌱 Bem-vindo ao Vegan AI 🌱\n",
        "\n",
        "## Sobre o Vegan AI\n",
        "Vegan AI é uma aplicação que combina inteligência artificial com informações relevantes para pessoas veganas. Seja você um vegano de longa data ou alguém interessado em adotar um estilo de vida vegano, o Vegan AI está aqui para fornecer receitas, guias e dicas úteis para sua jornada vegana.\n",
        "\n",
        "## Recursos Principais\n",
        "- **Busca Inteligente**: Use nossa poderosa busca para encontrar informações relevantes sobre veganismo.\n",
        "- **Conteúdo Veganizado**: Descubra receitas deliciosas, guias úteis e dicas essenciais para uma vida vegana saudável.\n",
        "\n",
        "## Como Funciona\n",
        "1. Insira sua consulta na barra de busca.\n",
        "2. Receba um trecho relevante de texto sobre o tema.\n",
        "\n",
        "## Experimente Agora!\n",
        "Prepare-se para uma experiência vegana única com Vegan AI. Comece sua jornada vegana ou aprimore seu conhecimento com nossos recursos exclusivos!"
      ],
      "metadata": {
        "id": "U8uXCai4n_YN"
      }
    },
    {
      "cell_type": "code",
      "execution_count": 3,
      "metadata": {
        "id": "1nQQELS0n9gH"
      },
      "outputs": [],
      "source": [
        "# Instalação de Dependências\n",
        "!pip install -U -q google-generativeai"
      ]
    },
    {
      "cell_type": "code",
      "source": [
        "# Importações e Configurações Iniciais\n",
        "import numpy as np\n",
        "import pandas as pd\n",
        "import google.generativeai as genai\n",
        "# Configuração da Chave da API do Google\n",
        "from google.colab import userdata\n",
        "api_key = userdata.get(\"SECRET_KEY\")\n",
        "genai.configure(api_key=api_key)"
      ],
      "metadata": {
        "id": "4XMP01sooj8X"
      },
      "execution_count": 8,
      "outputs": []
    },
    {
      "cell_type": "code",
      "source": [
        "# Definição dos Documentos para Veganos\n",
        "DOCUMENT1 = {\n",
        "    \"Título\": \"Receita Vegana: Hambúrguer de Grão-de-Bico\",\n",
        "    \"Conteúdo\": \"Experimente esta deliciosa receita vegana de hambúrguer de grão-de-bico! Para preparar, basta amassar grão-de-bico cozido com cebola picada, alho, aveia em flocos, páprica, cominho e sal. Molde a mistura em hambúrgueres e grelhe até ficarem dourados. Sirva em um pão integral com alface, tomate e molho vegano de sua escolha.\"\n",
        "}\n",
        "\n",
        "DOCUMENT2 = {\n",
        "    \"Título\": \"Guia Vegano: Alternativas Saborosas aos Produtos de Origem Animal\",\n",
        "    \"Conteúdo\": \"Neste guia vegano, você encontrará alternativas deliciosas aos produtos de origem animal. Substitua o leite de vaca por leites vegetais como o leite de amêndoa, soja ou aveia. Para queijo, experimente opções à base de castanhas ou batatas. Em vez de carne, explore proteínas vegetais como o tofu, seitan ou lentilhas. Com essas alternativas, você pode desfrutar de refeições saborosas e nutritivas enquanto mantém seu compromisso com o veganismo.\"\n",
        "}\n",
        "\n",
        "DOCUMENT3 = {\n",
        "    \"Título\": \"Dicas para uma Dieta Vegana Equilibrada\",\n",
        "    \"Conteúdo\": \"Seguir uma dieta vegana pode ser saudável e equilibrado com as escolhas certas. Certifique-se de incluir uma variedade de alimentos vegetais, como frutas, legumes, grãos integrais, leguminosas e oleaginosas. Consuma fontes de proteína vegetal, como feijões, lentilhas, tofu e quinoa, para garantir uma ingestão adequada de nutrientes. Além disso, considere suplementar com vitamina B12, que é encontrada principalmente em produtos de origem animal. Com um planejamento adequado, você pode desfrutar de todos os benefícios de uma dieta vegana.\"\n",
        "}\n",
        "\n",
        "# Documentos Veganos\n",
        "documents = [DOCUMENT1, DOCUMENT2, DOCUMENT3]"
      ],
      "metadata": {
        "id": "40Tm1DF3rVqb"
      },
      "execution_count": 10,
      "outputs": []
    },
    {
      "cell_type": "code",
      "source": [
        "# Criação do DataFrame com os Novos Documentos Veganos\n",
        "df = pd.DataFrame(documents)\n",
        "df.columns = [\"Titulo\", \"Conteudo\"]"
      ],
      "metadata": {
        "id": "G0poGcbdrvPS"
      },
      "execution_count": 11,
      "outputs": []
    },
    {
      "cell_type": "code",
      "source": [
        "# Carregamento do Modelo de Embedding\n",
        "model = \"models/embedding-001\""
      ],
      "metadata": {
        "id": "IL_86y8yr3H-"
      },
      "execution_count": 12,
      "outputs": []
    },
    {
      "cell_type": "code",
      "source": [
        "# Função para Incorporar Documentos\n",
        "def embed_fn(title, text):\n",
        "    return genai.embed_content(model=model,\n",
        "                               content=text,\n",
        "                               title=title,\n",
        "                               task_type=\"RETRIEVAL_DOCUMENT\")[\"embedding\"]"
      ],
      "metadata": {
        "id": "56ts1A6ar9eO"
      },
      "execution_count": 13,
      "outputs": []
    },
    {
      "cell_type": "code",
      "source": [
        "# Incorporação dos Documentos no DataFrame\n",
        "df[\"Embeddings\"] = df.apply(lambda row: embed_fn(row[\"Titulo\"], row[\"Conteudo\"]), axis=1)\n",
        "df"
      ],
      "metadata": {
        "colab": {
          "base_uri": "https://localhost:8080/",
          "height": 143
        },
        "id": "h7qayKF6sT7N",
        "outputId": "eaa2ae5a-dd83-48e3-df67-b55c142d4b3f"
      },
      "execution_count": 15,
      "outputs": [
        {
          "output_type": "execute_result",
          "data": {
            "text/plain": [
              "                                              Titulo  \\\n",
              "0         Receita Vegana: Hambúrguer de Grão-de-Bico   \n",
              "1  Guia Vegano: Alternativas Saborosas aos Produt...   \n",
              "2            Dicas para uma Dieta Vegana Equilibrada   \n",
              "\n",
              "                                            Conteudo  \\\n",
              "0  Experimente esta deliciosa receita vegana de h...   \n",
              "1  Neste guia vegano, você encontrará alternativa...   \n",
              "2  Seguir uma dieta vegana pode ser saudável e eq...   \n",
              "\n",
              "                                          Embeddings  \n",
              "0  [0.029435514, -0.039037086, -0.040710405, 0.00...  \n",
              "1  [0.010990837, -0.058989566, -0.01639644, -0.02...  \n",
              "2  [-0.013332691, -0.06300287, 0.015886724, -0.01...  "
            ],
            "text/html": [
              "\n",
              "  <div id=\"df-c119bb35-67e1-44de-9348-03cf1f4c864c\" class=\"colab-df-container\">\n",
              "    <div>\n",
              "<style scoped>\n",
              "    .dataframe tbody tr th:only-of-type {\n",
              "        vertical-align: middle;\n",
              "    }\n",
              "\n",
              "    .dataframe tbody tr th {\n",
              "        vertical-align: top;\n",
              "    }\n",
              "\n",
              "    .dataframe thead th {\n",
              "        text-align: right;\n",
              "    }\n",
              "</style>\n",
              "<table border=\"1\" class=\"dataframe\">\n",
              "  <thead>\n",
              "    <tr style=\"text-align: right;\">\n",
              "      <th></th>\n",
              "      <th>Titulo</th>\n",
              "      <th>Conteudo</th>\n",
              "      <th>Embeddings</th>\n",
              "    </tr>\n",
              "  </thead>\n",
              "  <tbody>\n",
              "    <tr>\n",
              "      <th>0</th>\n",
              "      <td>Receita Vegana: Hambúrguer de Grão-de-Bico</td>\n",
              "      <td>Experimente esta deliciosa receita vegana de h...</td>\n",
              "      <td>[0.029435514, -0.039037086, -0.040710405, 0.00...</td>\n",
              "    </tr>\n",
              "    <tr>\n",
              "      <th>1</th>\n",
              "      <td>Guia Vegano: Alternativas Saborosas aos Produt...</td>\n",
              "      <td>Neste guia vegano, você encontrará alternativa...</td>\n",
              "      <td>[0.010990837, -0.058989566, -0.01639644, -0.02...</td>\n",
              "    </tr>\n",
              "    <tr>\n",
              "      <th>2</th>\n",
              "      <td>Dicas para uma Dieta Vegana Equilibrada</td>\n",
              "      <td>Seguir uma dieta vegana pode ser saudável e eq...</td>\n",
              "      <td>[-0.013332691, -0.06300287, 0.015886724, -0.01...</td>\n",
              "    </tr>\n",
              "  </tbody>\n",
              "</table>\n",
              "</div>\n",
              "    <div class=\"colab-df-buttons\">\n",
              "\n",
              "  <div class=\"colab-df-container\">\n",
              "    <button class=\"colab-df-convert\" onclick=\"convertToInteractive('df-c119bb35-67e1-44de-9348-03cf1f4c864c')\"\n",
              "            title=\"Convert this dataframe to an interactive table.\"\n",
              "            style=\"display:none;\">\n",
              "\n",
              "  <svg xmlns=\"http://www.w3.org/2000/svg\" height=\"24px\" viewBox=\"0 -960 960 960\">\n",
              "    <path d=\"M120-120v-720h720v720H120Zm60-500h600v-160H180v160Zm220 220h160v-160H400v160Zm0 220h160v-160H400v160ZM180-400h160v-160H180v160Zm440 0h160v-160H620v160ZM180-180h160v-160H180v160Zm440 0h160v-160H620v160Z\"/>\n",
              "  </svg>\n",
              "    </button>\n",
              "\n",
              "  <style>\n",
              "    .colab-df-container {\n",
              "      display:flex;\n",
              "      gap: 12px;\n",
              "    }\n",
              "\n",
              "    .colab-df-convert {\n",
              "      background-color: #E8F0FE;\n",
              "      border: none;\n",
              "      border-radius: 50%;\n",
              "      cursor: pointer;\n",
              "      display: none;\n",
              "      fill: #1967D2;\n",
              "      height: 32px;\n",
              "      padding: 0 0 0 0;\n",
              "      width: 32px;\n",
              "    }\n",
              "\n",
              "    .colab-df-convert:hover {\n",
              "      background-color: #E2EBFA;\n",
              "      box-shadow: 0px 1px 2px rgba(60, 64, 67, 0.3), 0px 1px 3px 1px rgba(60, 64, 67, 0.15);\n",
              "      fill: #174EA6;\n",
              "    }\n",
              "\n",
              "    .colab-df-buttons div {\n",
              "      margin-bottom: 4px;\n",
              "    }\n",
              "\n",
              "    [theme=dark] .colab-df-convert {\n",
              "      background-color: #3B4455;\n",
              "      fill: #D2E3FC;\n",
              "    }\n",
              "\n",
              "    [theme=dark] .colab-df-convert:hover {\n",
              "      background-color: #434B5C;\n",
              "      box-shadow: 0px 1px 3px 1px rgba(0, 0, 0, 0.15);\n",
              "      filter: drop-shadow(0px 1px 2px rgba(0, 0, 0, 0.3));\n",
              "      fill: #FFFFFF;\n",
              "    }\n",
              "  </style>\n",
              "\n",
              "    <script>\n",
              "      const buttonEl =\n",
              "        document.querySelector('#df-c119bb35-67e1-44de-9348-03cf1f4c864c button.colab-df-convert');\n",
              "      buttonEl.style.display =\n",
              "        google.colab.kernel.accessAllowed ? 'block' : 'none';\n",
              "\n",
              "      async function convertToInteractive(key) {\n",
              "        const element = document.querySelector('#df-c119bb35-67e1-44de-9348-03cf1f4c864c');\n",
              "        const dataTable =\n",
              "          await google.colab.kernel.invokeFunction('convertToInteractive',\n",
              "                                                    [key], {});\n",
              "        if (!dataTable) return;\n",
              "\n",
              "        const docLinkHtml = 'Like what you see? Visit the ' +\n",
              "          '<a target=\"_blank\" href=https://colab.research.google.com/notebooks/data_table.ipynb>data table notebook</a>'\n",
              "          + ' to learn more about interactive tables.';\n",
              "        element.innerHTML = '';\n",
              "        dataTable['output_type'] = 'display_data';\n",
              "        await google.colab.output.renderOutput(dataTable, element);\n",
              "        const docLink = document.createElement('div');\n",
              "        docLink.innerHTML = docLinkHtml;\n",
              "        element.appendChild(docLink);\n",
              "      }\n",
              "    </script>\n",
              "  </div>\n",
              "\n",
              "\n",
              "<div id=\"df-463025b5-6b77-4235-b1d1-6009ff56c757\">\n",
              "  <button class=\"colab-df-quickchart\" onclick=\"quickchart('df-463025b5-6b77-4235-b1d1-6009ff56c757')\"\n",
              "            title=\"Suggest charts\"\n",
              "            style=\"display:none;\">\n",
              "\n",
              "<svg xmlns=\"http://www.w3.org/2000/svg\" height=\"24px\"viewBox=\"0 0 24 24\"\n",
              "     width=\"24px\">\n",
              "    <g>\n",
              "        <path d=\"M19 3H5c-1.1 0-2 .9-2 2v14c0 1.1.9 2 2 2h14c1.1 0 2-.9 2-2V5c0-1.1-.9-2-2-2zM9 17H7v-7h2v7zm4 0h-2V7h2v10zm4 0h-2v-4h2v4z\"/>\n",
              "    </g>\n",
              "</svg>\n",
              "  </button>\n",
              "\n",
              "<style>\n",
              "  .colab-df-quickchart {\n",
              "      --bg-color: #E8F0FE;\n",
              "      --fill-color: #1967D2;\n",
              "      --hover-bg-color: #E2EBFA;\n",
              "      --hover-fill-color: #174EA6;\n",
              "      --disabled-fill-color: #AAA;\n",
              "      --disabled-bg-color: #DDD;\n",
              "  }\n",
              "\n",
              "  [theme=dark] .colab-df-quickchart {\n",
              "      --bg-color: #3B4455;\n",
              "      --fill-color: #D2E3FC;\n",
              "      --hover-bg-color: #434B5C;\n",
              "      --hover-fill-color: #FFFFFF;\n",
              "      --disabled-bg-color: #3B4455;\n",
              "      --disabled-fill-color: #666;\n",
              "  }\n",
              "\n",
              "  .colab-df-quickchart {\n",
              "    background-color: var(--bg-color);\n",
              "    border: none;\n",
              "    border-radius: 50%;\n",
              "    cursor: pointer;\n",
              "    display: none;\n",
              "    fill: var(--fill-color);\n",
              "    height: 32px;\n",
              "    padding: 0;\n",
              "    width: 32px;\n",
              "  }\n",
              "\n",
              "  .colab-df-quickchart:hover {\n",
              "    background-color: var(--hover-bg-color);\n",
              "    box-shadow: 0 1px 2px rgba(60, 64, 67, 0.3), 0 1px 3px 1px rgba(60, 64, 67, 0.15);\n",
              "    fill: var(--button-hover-fill-color);\n",
              "  }\n",
              "\n",
              "  .colab-df-quickchart-complete:disabled,\n",
              "  .colab-df-quickchart-complete:disabled:hover {\n",
              "    background-color: var(--disabled-bg-color);\n",
              "    fill: var(--disabled-fill-color);\n",
              "    box-shadow: none;\n",
              "  }\n",
              "\n",
              "  .colab-df-spinner {\n",
              "    border: 2px solid var(--fill-color);\n",
              "    border-color: transparent;\n",
              "    border-bottom-color: var(--fill-color);\n",
              "    animation:\n",
              "      spin 1s steps(1) infinite;\n",
              "  }\n",
              "\n",
              "  @keyframes spin {\n",
              "    0% {\n",
              "      border-color: transparent;\n",
              "      border-bottom-color: var(--fill-color);\n",
              "      border-left-color: var(--fill-color);\n",
              "    }\n",
              "    20% {\n",
              "      border-color: transparent;\n",
              "      border-left-color: var(--fill-color);\n",
              "      border-top-color: var(--fill-color);\n",
              "    }\n",
              "    30% {\n",
              "      border-color: transparent;\n",
              "      border-left-color: var(--fill-color);\n",
              "      border-top-color: var(--fill-color);\n",
              "      border-right-color: var(--fill-color);\n",
              "    }\n",
              "    40% {\n",
              "      border-color: transparent;\n",
              "      border-right-color: var(--fill-color);\n",
              "      border-top-color: var(--fill-color);\n",
              "    }\n",
              "    60% {\n",
              "      border-color: transparent;\n",
              "      border-right-color: var(--fill-color);\n",
              "    }\n",
              "    80% {\n",
              "      border-color: transparent;\n",
              "      border-right-color: var(--fill-color);\n",
              "      border-bottom-color: var(--fill-color);\n",
              "    }\n",
              "    90% {\n",
              "      border-color: transparent;\n",
              "      border-bottom-color: var(--fill-color);\n",
              "    }\n",
              "  }\n",
              "</style>\n",
              "\n",
              "  <script>\n",
              "    async function quickchart(key) {\n",
              "      const quickchartButtonEl =\n",
              "        document.querySelector('#' + key + ' button');\n",
              "      quickchartButtonEl.disabled = true;  // To prevent multiple clicks.\n",
              "      quickchartButtonEl.classList.add('colab-df-spinner');\n",
              "      try {\n",
              "        const charts = await google.colab.kernel.invokeFunction(\n",
              "            'suggestCharts', [key], {});\n",
              "      } catch (error) {\n",
              "        console.error('Error during call to suggestCharts:', error);\n",
              "      }\n",
              "      quickchartButtonEl.classList.remove('colab-df-spinner');\n",
              "      quickchartButtonEl.classList.add('colab-df-quickchart-complete');\n",
              "    }\n",
              "    (() => {\n",
              "      let quickchartButtonEl =\n",
              "        document.querySelector('#df-463025b5-6b77-4235-b1d1-6009ff56c757 button');\n",
              "      quickchartButtonEl.style.display =\n",
              "        google.colab.kernel.accessAllowed ? 'block' : 'none';\n",
              "    })();\n",
              "  </script>\n",
              "</div>\n",
              "\n",
              "  <div id=\"id_621261de-e363-4201-a864-e7acbae2029e\">\n",
              "    <style>\n",
              "      .colab-df-generate {\n",
              "        background-color: #E8F0FE;\n",
              "        border: none;\n",
              "        border-radius: 50%;\n",
              "        cursor: pointer;\n",
              "        display: none;\n",
              "        fill: #1967D2;\n",
              "        height: 32px;\n",
              "        padding: 0 0 0 0;\n",
              "        width: 32px;\n",
              "      }\n",
              "\n",
              "      .colab-df-generate:hover {\n",
              "        background-color: #E2EBFA;\n",
              "        box-shadow: 0px 1px 2px rgba(60, 64, 67, 0.3), 0px 1px 3px 1px rgba(60, 64, 67, 0.15);\n",
              "        fill: #174EA6;\n",
              "      }\n",
              "\n",
              "      [theme=dark] .colab-df-generate {\n",
              "        background-color: #3B4455;\n",
              "        fill: #D2E3FC;\n",
              "      }\n",
              "\n",
              "      [theme=dark] .colab-df-generate:hover {\n",
              "        background-color: #434B5C;\n",
              "        box-shadow: 0px 1px 3px 1px rgba(0, 0, 0, 0.15);\n",
              "        filter: drop-shadow(0px 1px 2px rgba(0, 0, 0, 0.3));\n",
              "        fill: #FFFFFF;\n",
              "      }\n",
              "    </style>\n",
              "    <button class=\"colab-df-generate\" onclick=\"generateWithVariable('df')\"\n",
              "            title=\"Generate code using this dataframe.\"\n",
              "            style=\"display:none;\">\n",
              "\n",
              "  <svg xmlns=\"http://www.w3.org/2000/svg\" height=\"24px\"viewBox=\"0 0 24 24\"\n",
              "       width=\"24px\">\n",
              "    <path d=\"M7,19H8.4L18.45,9,17,7.55,7,17.6ZM5,21V16.75L18.45,3.32a2,2,0,0,1,2.83,0l1.4,1.43a1.91,1.91,0,0,1,.58,1.4,1.91,1.91,0,0,1-.58,1.4L9.25,21ZM18.45,9,17,7.55Zm-12,3A5.31,5.31,0,0,0,4.9,8.1,5.31,5.31,0,0,0,1,6.5,5.31,5.31,0,0,0,4.9,4.9,5.31,5.31,0,0,0,6.5,1,5.31,5.31,0,0,0,8.1,4.9,5.31,5.31,0,0,0,12,6.5,5.46,5.46,0,0,0,6.5,12Z\"/>\n",
              "  </svg>\n",
              "    </button>\n",
              "    <script>\n",
              "      (() => {\n",
              "      const buttonEl =\n",
              "        document.querySelector('#id_621261de-e363-4201-a864-e7acbae2029e button.colab-df-generate');\n",
              "      buttonEl.style.display =\n",
              "        google.colab.kernel.accessAllowed ? 'block' : 'none';\n",
              "\n",
              "      buttonEl.onclick = () => {\n",
              "        google.colab.notebook.generateWithVariable('df');\n",
              "      }\n",
              "      })();\n",
              "    </script>\n",
              "  </div>\n",
              "\n",
              "    </div>\n",
              "  </div>\n"
            ],
            "application/vnd.google.colaboratory.intrinsic+json": {
              "type": "dataframe",
              "variable_name": "df",
              "summary": "{\n  \"name\": \"df\",\n  \"rows\": 3,\n  \"fields\": [\n    {\n      \"column\": \"Titulo\",\n      \"properties\": {\n        \"dtype\": \"string\",\n        \"num_unique_values\": 3,\n        \"samples\": [\n          \"Receita Vegana: Hamb\\u00farguer de Gr\\u00e3o-de-Bico\",\n          \"Guia Vegano: Alternativas Saborosas aos Produtos de Origem Animal\",\n          \"Dicas para uma Dieta Vegana Equilibrada\"\n        ],\n        \"semantic_type\": \"\",\n        \"description\": \"\"\n      }\n    },\n    {\n      \"column\": \"Conteudo\",\n      \"properties\": {\n        \"dtype\": \"string\",\n        \"num_unique_values\": 3,\n        \"samples\": [\n          \"Experimente esta deliciosa receita vegana de hamb\\u00farguer de gr\\u00e3o-de-bico! Para preparar, basta amassar gr\\u00e3o-de-bico cozido com cebola picada, alho, aveia em flocos, p\\u00e1prica, cominho e sal. Molde a mistura em hamb\\u00fargueres e grelhe at\\u00e9 ficarem dourados. Sirva em um p\\u00e3o integral com alface, tomate e molho vegano de sua escolha.\",\n          \"Neste guia vegano, voc\\u00ea encontrar\\u00e1 alternativas deliciosas aos produtos de origem animal. Substitua o leite de vaca por leites vegetais como o leite de am\\u00eandoa, soja ou aveia. Para queijo, experimente op\\u00e7\\u00f5es \\u00e0 base de castanhas ou batatas. Em vez de carne, explore prote\\u00ednas vegetais como o tofu, seitan ou lentilhas. Com essas alternativas, voc\\u00ea pode desfrutar de refei\\u00e7\\u00f5es saborosas e nutritivas enquanto mant\\u00e9m seu compromisso com o veganismo.\",\n          \"Seguir uma dieta vegana pode ser saud\\u00e1vel e equilibrado com as escolhas certas. Certifique-se de incluir uma variedade de alimentos vegetais, como frutas, legumes, gr\\u00e3os integrais, leguminosas e oleaginosas. Consuma fontes de prote\\u00edna vegetal, como feij\\u00f5es, lentilhas, tofu e quinoa, para garantir uma ingest\\u00e3o adequada de nutrientes. Al\\u00e9m disso, considere suplementar com vitamina B12, que \\u00e9 encontrada principalmente em produtos de origem animal. Com um planejamento adequado, voc\\u00ea pode desfrutar de todos os benef\\u00edcios de uma dieta vegana.\"\n        ],\n        \"semantic_type\": \"\",\n        \"description\": \"\"\n      }\n    },\n    {\n      \"column\": \"Embeddings\",\n      \"properties\": {\n        \"dtype\": \"object\",\n        \"semantic_type\": \"\",\n        \"description\": \"\"\n      }\n    }\n  ]\n}"
            }
          },
          "metadata": {},
          "execution_count": 15
        }
      ]
    },
    {
      "cell_type": "code",
      "source": [
        "# Função para Buscar e Retornar Trecho de Texto Relevante\n",
        "def gerar_e_buscar_consulta(consulta, base, model):\n",
        "    embedding_da_consulta = genai.embed_content(model=model,\n",
        "                                                 content=consulta,\n",
        "                                                 task_type=\"RETRIEVAL_QUERY\")[\"embedding\"]\n",
        "    produtos_escalares = np.dot(np.stack(df[\"Embeddings\"]), embedding_da_consulta)\n",
        "    indice = np.argmax(produtos_escalares)\n",
        "    return df.iloc[indice][\"Conteudo\"]"
      ],
      "metadata": {
        "id": "5h3pqo-Msg4E"
      },
      "execution_count": 16,
      "outputs": []
    },
    {
      "cell_type": "code",
      "source": [
        "# Consulta e Impressão do Trecho Relevante\n",
        "consulta = \"Como faço para ter uma dieta saudavel?\"\n",
        "trecho = gerar_e_buscar_consulta(consulta, df, model)\n",
        "print(trecho)"
      ],
      "metadata": {
        "colab": {
          "base_uri": "https://localhost:8080/",
          "height": 54
        },
        "id": "B-BOCj1dsqa_",
        "outputId": "0e8d3f05-9411-46d6-b075-2006a687986a"
      },
      "execution_count": 18,
      "outputs": [
        {
          "output_type": "stream",
          "name": "stdout",
          "text": [
            "Seguir uma dieta vegana pode ser saudável e equilibrado com as escolhas certas. Certifique-se de incluir uma variedade de alimentos vegetais, como frutas, legumes, grãos integrais, leguminosas e oleaginosas. Consuma fontes de proteína vegetal, como feijões, lentilhas, tofu e quinoa, para garantir uma ingestão adequada de nutrientes. Além disso, considere suplementar com vitamina B12, que é encontrada principalmente em produtos de origem animal. Com um planejamento adequado, você pode desfrutar de todos os benefícios de uma dieta vegana.\n"
          ]
        }
      ]
    },
    {
      "cell_type": "code",
      "source": [
        "# Configuração de Geração de Texto\n",
        "generation_config = {\n",
        "    \"temperature\": 1,\n",
        "    \"candidate_count\": 1\n",
        "}"
      ],
      "metadata": {
        "id": "Vo92dCuAs6pp"
      },
      "execution_count": 19,
      "outputs": []
    },
    {
      "cell_type": "code",
      "source": [
        "# Prompt para Geração de Texto\n",
        "prompt = f\"Você é um profissional de nutrição, explique de maneira clara e objetiva sem adicionar informações que não façam parte do texto: {trecho}\""
      ],
      "metadata": {
        "id": "XdwAlKurtAOR"
      },
      "execution_count": 20,
      "outputs": []
    },
    {
      "cell_type": "code",
      "source": [
        "# Inicialização do Modelo de Geração de Texto\n",
        "model_2 = genai.GenerativeModel(\"gemini-1.0-pro\", generation_config=generation_config)"
      ],
      "metadata": {
        "id": "6M5KF_ArtOq4"
      },
      "execution_count": 21,
      "outputs": []
    },
    {
      "cell_type": "code",
      "source": [
        "# Geração de Texto mais criativo\n",
        "response = model_2.generate_content(prompt)\n",
        "print(response.text)"
      ],
      "metadata": {
        "colab": {
          "base_uri": "https://localhost:8080/",
          "height": 173
        },
        "id": "a7i5Ecm2tSr9",
        "outputId": "8522a00b-bae6-4849-e8ba-2ebaaee399d8"
      },
      "execution_count": 22,
      "outputs": [
        {
          "output_type": "stream",
          "name": "stdout",
          "text": [
            "**Nutrição em uma Dieta Vegana**\n",
            "\n",
            "Seguir uma dieta vegana pode ser saudável com escolhas alimentares adequadas. Inclua:\n",
            "\n",
            "* **Variedade de Alimentos Vegetais:** Frutas, legumes, grãos integrais, leguminosas e oleaginosas.\n",
            "* **Proteínas Vegetais:** Feijões, lentilhas, tofu, quinoa.\n",
            "* **Vitamina B12:** Suplementação necessária, pois não é encontrada em alimentos vegetais.\n",
            "\n",
            "Com planejamento adequado, uma dieta vegana pode fornecer todos os nutrientes essenciais.\n"
          ]
        }
      ]
    }
  ]
}